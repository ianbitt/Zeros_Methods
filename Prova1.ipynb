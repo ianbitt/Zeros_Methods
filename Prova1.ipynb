{
 "cells": [
  {
   "cell_type": "markdown",
   "metadata": {},
   "source": [
    "# Imports"
   ]
  },
  {
   "cell_type": "code",
   "execution_count": 22,
   "metadata": {},
   "outputs": [],
   "source": [
    "import sympy as sp\n",
    "import pandas as pd\n",
    "import math\n",
    "import numpy as np\n",
    "import matplotlib.pyplot as plt"
   ]
  },
  {
   "cell_type": "code",
   "execution_count": 23,
   "metadata": {},
   "outputs": [],
   "source": [
    "e = math.e"
   ]
  },
  {
   "cell_type": "markdown",
   "metadata": {},
   "source": [
    "# Funções"
   ]
  },
  {
   "cell_type": "markdown",
   "metadata": {},
   "source": [
    "### Definindo a Função e como calcular sua Derivada em um ponto X"
   ]
  },
  {
   "cell_type": "code",
   "execution_count": 24,
   "metadata": {},
   "outputs": [],
   "source": [
    "def f(x):\n",
    "    return 10 - 15*(e**(-0.1*x) - e**(-0.5*x)) - 4"
   ]
  },
  {
   "cell_type": "code",
   "execution_count": 25,
   "metadata": {},
   "outputs": [],
   "source": [
    "def derivada(f, x, h=1e-5):\n",
    "    return (f(x + h) - f(x - h)) / (2 * h)"
   ]
  },
  {
   "cell_type": "markdown",
   "metadata": {},
   "source": [
    "### Definindo as paths"
   ]
  },
  {
   "cell_type": "code",
   "execution_count": 26,
   "metadata": {},
   "outputs": [],
   "source": [
    "#Editar as paths para o local onde os arquivos estão salvos\n",
    "\n",
    "path_biss = \"/Users/ianbittencourt/Zeros_Methods/resultados_biss.csv\"\n",
    "path_fals = \"/Users/ianbittencourt/Zeros_Methods/resultados_fals.csv\"\n",
    "path_newton = \"/Users/ianbittencourt/Zeros_Methods/resultados_newt.csv\"\n",
    "path_sec = \"/Users/ianbittencourt/Zeros_Methods/resultados_sec.csv\"\n",
    "path_metodos = \"/Users/ianbittencourt/Zeros_Methods/resultados_metodos.csv\""
   ]
  },
  {
   "cell_type": "markdown",
   "metadata": {},
   "source": [
    "### Definindo o Método da Bissecção"
   ]
  },
  {
   "cell_type": "code",
   "execution_count": 27,
   "metadata": {},
   "outputs": [],
   "source": [
    "def bissec(a, b, eps):\n",
    "    iteracoes = []                                          # Lista para armazenar as iterações\n",
    "    x = (a+b)/2                                             # Calcula o ponto médio\n",
    "    iteracoes.append((a, b, f(a), f(b), x, f(x)))           # Adiciona a primeira iteração na lista iteracoes \n",
    "    while abs(f(x)) > eps:                                  # Enquanto a função no ponto médio for maior que a precisão, o ciclo continua sendo executado\n",
    "        x = (a+b)/2                                         # Calcula o ponto médio novamente\n",
    "        if f(a)*f(x) < 0:                                   # Se a função no ponto A multiplicada pela função no ponto médio for menor que 0, o ponto médio se torna o novo ponto B\n",
    "            b = x\n",
    "        else:                                               # Se não, o ponto médio se torna o novo ponto A\n",
    "            a = x\n",
    "        iteracoes.append((a, b, f(a), f(b), x, f(x)))       # Adiciona a iteração atual na lista iteracoes\n",
    "    return x, iteracoes                                     # Retorna o valor de x e a lista de iterações\n"
   ]
  },
  {
   "cell_type": "markdown",
   "metadata": {},
   "source": [
    "### Definindo o método da Falsa Posição"
   ]
  },
  {
   "cell_type": "code",
   "execution_count": 28,
   "metadata": {},
   "outputs": [],
   "source": [
    "def false_pos(a, b, eps): \n",
    "    iteracoes = []                                          # Lista para armazenar as iterações\n",
    "    x = (a*(f(b)) - b*(f(a)))/(f(b) - f(a))                 # Calcula o ponto x \n",
    "    iteracoes.append((a, b, f(a), f(b), x, f(x)))           # Adiciona a primeira iteração na lista iteracoes\n",
    "    while abs(f(x))> eps:                                   # Enquanto a função no ponto x for maior que a precisão, o ciclo continua sendo executado\n",
    "        x = (a*(f(b)) - b*(f(a)))/(f(b) - f(a))             # Calcula o ponto x novamente\n",
    "        if f(a)*f(x) < 0:                                   # Se a função no ponto A multiplicada pela função no ponto x for menor que 0, o ponto x se torna o novo ponto B\n",
    "            b = x\n",
    "        else:                                               # Se não, o ponto x se torna o novo ponto A\n",
    "            a = x\n",
    "        iteracoes.append((a, b, f(a), f(b), x, f(x)))       # Adiciona a iteração atual na lista iteracoes\n",
    "    return x, iteracoes"
   ]
  },
  {
   "cell_type": "markdown",
   "metadata": {},
   "source": [
    "### Definindo o método de Newton-Raphson"
   ]
  },
  {
   "cell_type": "code",
   "execution_count": 29,
   "metadata": {},
   "outputs": [],
   "source": [
    "def newton(x0, eps):\n",
    "    iteracoes = []                                         # Lista para armazenar as iterações\n",
    "    x = x0 - f(x0)/derivada(f, x0)                         # Calcula o ponto x\n",
    "    iteracoes.append((x0, f(x0), x, f(x)))                 # Adiciona a primeira iteração na lista iteracoes\n",
    "    while abs(f(x)) > eps:                                 # Enquanto a função no ponto x for maior que a precisão, o ciclo continua sendo executado\n",
    "        x = x - f(x)/derivada(f, x)                        # Calcula o ponto x novamente\n",
    "        iteracoes.append((x0, f(x0), x, f(x)))             # Adiciona a iteração atual na lista iteracoes\n",
    "    return x, iteracoes                                    # Retorna o valor de x e a lista de iterações"
   ]
  },
  {
   "cell_type": "markdown",
   "metadata": {},
   "source": [
    "### Definindo o método da Secante"
   ]
  },
  {
   "cell_type": "code",
   "execution_count": 30,
   "metadata": {},
   "outputs": [],
   "source": [
    "def secante(a, b, eps):\n",
    "    iteracoes = []                                         # Lista para armazenar as iterações\n",
    "    c = (a*f(b) - b*f(a))/(f(b) - f(a))                    # Calcula o ponto c\n",
    "    iteracoes.append((a, b, c, f(c)))                      # Adiciona a primeira iteração na lista iteracoes\n",
    "    while abs(f(c)) > eps:                                 # Enquanto a função no ponto c for maior que a precisão, o ciclo continua sendo executado\n",
    "        c = (a*f(b) - b*f(a))/(f(b) - f(a))                # Calcula o ponto c novamente\n",
    "        iteracoes.append((a, b, c, f(c)))                  # Adiciona a iteração atual na lista iteracoes\n",
    "        a = b                                              \n",
    "        b = c                                              \n",
    "    return c, iteracoes                                    # Retorna o valor de c e a lista de iterações"
   ]
  },
  {
   "cell_type": "markdown",
   "metadata": {},
   "source": [
    "# Código "
   ]
  },
  {
   "cell_type": "code",
   "execution_count": 31,
   "metadata": {},
   "outputs": [],
   "source": [
    "# Solicitando os valores ao usuário\n",
    "a = float(input(\"Defina o início do intervalo: \"))\n",
    "b = float(input(\"Defina o final do intervalo: \"))\n",
    "eps = float(input(\"Defina o erro: \"))\n",
    "\n",
    "# Executando os métodos e armazenando os resultados\n",
    "resultados = {\n",
    "    \"Método\": [],\n",
    "    \"Resultado\": []\n",
    "}"
   ]
  },
  {
   "cell_type": "code",
   "execution_count": 32,
   "metadata": {},
   "outputs": [
    {
     "name": "stdout",
     "output_type": "stream",
     "text": [
      "Resultados salvos em resultados_biss.csv\n"
     ]
    }
   ],
   "source": [
    "# Bissecção\n",
    "x_bissec, iteracoes_bissec = bissec(a, b, eps)\n",
    "df_iteracoes_bissec = pd.DataFrame(iteracoes_bissec, columns=['a', 'b', 'f(a)', 'f(b)', 'x', 'f(x)'])\n",
    "df_iteracoes_bissec.to_csv(path_biss, index=False)\n",
    "resultados[\"Método\"].append(\"Bisseção\")\n",
    "resultados[\"Resultado\"].append(x_bissec)\n",
    "\n",
    "print(\"Resultados salvos em resultados_biss.csv\")"
   ]
  },
  {
   "cell_type": "code",
   "execution_count": 33,
   "metadata": {},
   "outputs": [
    {
     "name": "stdout",
     "output_type": "stream",
     "text": [
      "Resultados salvos em resultados_fals.csv\n"
     ]
    }
   ],
   "source": [
    "# Falsa Posição\n",
    "x_fals, iteracoes_fals = false_pos(a, b, eps)\n",
    "df_iteracoes_fals = pd.DataFrame(iteracoes_fals, columns=['a', 'b', 'f(a)', 'f(b)', 'x', 'f(x)'])\n",
    "df_iteracoes_fals.to_csv(path_fals, index=False)\n",
    "resultados[\"Método\"].append(\"Falsa Posição\")\n",
    "resultados[\"Resultado\"].append(x_fals)\n",
    "\n",
    "print(\"Resultados salvos em resultados_fals.csv\")"
   ]
  },
  {
   "cell_type": "code",
   "execution_count": 34,
   "metadata": {},
   "outputs": [
    {
     "name": "stdout",
     "output_type": "stream",
     "text": [
      "Resultados salvos em resultados_newt.csv\n"
     ]
    }
   ],
   "source": [
    "# Método de Newton\n",
    "x_newt, iteracoes_newt = newton(a, eps)\n",
    "df_iteracoes_newt = pd.DataFrame(iteracoes_newt, columns=['x0', 'f(x0)', 'x', 'f(x)'])\n",
    "df_iteracoes_newt.to_csv(path_newton, index=False)\n",
    "resultados[\"Método\"].append(\"Newton\")\n",
    "resultados[\"Resultado\"].append(x_newt)\n",
    "\n",
    "print(\"Resultados salvos em resultados_newt.csv\")\n"
   ]
  },
  {
   "cell_type": "code",
   "execution_count": 35,
   "metadata": {},
   "outputs": [
    {
     "name": "stdout",
     "output_type": "stream",
     "text": [
      "Resultados salvos em resultados_sec.csv\n"
     ]
    }
   ],
   "source": [
    "# Método da Secante\n",
    "x_sec, iteracoes_sec = secante(a, b, eps)\n",
    "df_iteracoes_sec = pd.DataFrame(iteracoes_sec, columns=['a', 'b', 'c', 'f(c)'])\n",
    "df_iteracoes_sec.to_csv(path_sec, index=False)\n",
    "resultados[\"Método\"].append(\"Método de Secante\")\n",
    "resultados[\"Resultado\"].append(x_sec)\n",
    "\n",
    "print(\"Resultados salvos em resultados_sec.csv\")"
   ]
  },
  {
   "cell_type": "code",
   "execution_count": 36,
   "metadata": {},
   "outputs": [
    {
     "name": "stdout",
     "output_type": "stream",
     "text": [
      "Resultados salvos em resultados_metodos.csv\n"
     ]
    }
   ],
   "source": [
    "# Salvando os resultados em um arquivo CSV\n",
    "df_resultados = pd.DataFrame(resultados)\n",
    "df_resultados.to_csv(path_metodos, index=False)\n",
    "print(\"Resultados salvos em resultados_metodos.csv\")"
   ]
  },
  {
   "cell_type": "markdown",
   "metadata": {},
   "source": [
    "# Apresentação de Resultados"
   ]
  },
  {
   "cell_type": "code",
   "execution_count": 37,
   "metadata": {},
   "outputs": [
    {
     "data": {
      "text/html": [
       "<div>\n",
       "<style scoped>\n",
       "    .dataframe tbody tr th:only-of-type {\n",
       "        vertical-align: middle;\n",
       "    }\n",
       "\n",
       "    .dataframe tbody tr th {\n",
       "        vertical-align: top;\n",
       "    }\n",
       "\n",
       "    .dataframe thead th {\n",
       "        text-align: right;\n",
       "    }\n",
       "</style>\n",
       "<table border=\"1\" class=\"dataframe\">\n",
       "  <thead>\n",
       "    <tr style=\"text-align: right;\">\n",
       "      <th></th>\n",
       "      <th>a</th>\n",
       "      <th>b</th>\n",
       "      <th>f(a)</th>\n",
       "      <th>f(b)</th>\n",
       "      <th>x</th>\n",
       "      <th>f(x)</th>\n",
       "    </tr>\n",
       "  </thead>\n",
       "  <tbody>\n",
       "    <tr>\n",
       "      <th>0</th>\n",
       "      <td>1.000000</td>\n",
       "      <td>2.00000</td>\n",
       "      <td>1.525399</td>\n",
       "      <td>-0.762770</td>\n",
       "      <td>1.500000</td>\n",
       "      <td>0.174879</td>\n",
       "    </tr>\n",
       "    <tr>\n",
       "      <th>1</th>\n",
       "      <td>1.500000</td>\n",
       "      <td>2.00000</td>\n",
       "      <td>0.174879</td>\n",
       "      <td>-0.762770</td>\n",
       "      <td>1.500000</td>\n",
       "      <td>0.174879</td>\n",
       "    </tr>\n",
       "    <tr>\n",
       "      <th>2</th>\n",
       "      <td>1.500000</td>\n",
       "      <td>1.75000</td>\n",
       "      <td>0.174879</td>\n",
       "      <td>-0.338925</td>\n",
       "      <td>1.750000</td>\n",
       "      <td>-0.338925</td>\n",
       "    </tr>\n",
       "    <tr>\n",
       "      <th>3</th>\n",
       "      <td>1.500000</td>\n",
       "      <td>1.62500</td>\n",
       "      <td>0.174879</td>\n",
       "      <td>-0.094032</td>\n",
       "      <td>1.625000</td>\n",
       "      <td>-0.094032</td>\n",
       "    </tr>\n",
       "    <tr>\n",
       "      <th>4</th>\n",
       "      <td>1.562500</td>\n",
       "      <td>1.62500</td>\n",
       "      <td>0.037321</td>\n",
       "      <td>-0.094032</td>\n",
       "      <td>1.562500</td>\n",
       "      <td>0.037321</td>\n",
       "    </tr>\n",
       "    <tr>\n",
       "      <th>5</th>\n",
       "      <td>1.562500</td>\n",
       "      <td>1.59375</td>\n",
       "      <td>0.037321</td>\n",
       "      <td>-0.029118</td>\n",
       "      <td>1.593750</td>\n",
       "      <td>-0.029118</td>\n",
       "    </tr>\n",
       "    <tr>\n",
       "      <th>6</th>\n",
       "      <td>1.578125</td>\n",
       "      <td>1.59375</td>\n",
       "      <td>0.003909</td>\n",
       "      <td>-0.029118</td>\n",
       "      <td>1.578125</td>\n",
       "      <td>0.003909</td>\n",
       "    </tr>\n",
       "  </tbody>\n",
       "</table>\n",
       "</div>"
      ],
      "text/plain": [
       "          a        b      f(a)      f(b)         x      f(x)\n",
       "0  1.000000  2.00000  1.525399 -0.762770  1.500000  0.174879\n",
       "1  1.500000  2.00000  0.174879 -0.762770  1.500000  0.174879\n",
       "2  1.500000  1.75000  0.174879 -0.338925  1.750000 -0.338925\n",
       "3  1.500000  1.62500  0.174879 -0.094032  1.625000 -0.094032\n",
       "4  1.562500  1.62500  0.037321 -0.094032  1.562500  0.037321\n",
       "5  1.562500  1.59375  0.037321 -0.029118  1.593750 -0.029118\n",
       "6  1.578125  1.59375  0.003909 -0.029118  1.578125  0.003909"
      ]
     },
     "execution_count": 37,
     "metadata": {},
     "output_type": "execute_result"
    }
   ],
   "source": [
    "df_iteracoes_bissec"
   ]
  },
  {
   "cell_type": "code",
   "execution_count": 38,
   "metadata": {},
   "outputs": [
    {
     "data": {
      "text/html": [
       "<div>\n",
       "<style scoped>\n",
       "    .dataframe tbody tr th:only-of-type {\n",
       "        vertical-align: middle;\n",
       "    }\n",
       "\n",
       "    .dataframe tbody tr th {\n",
       "        vertical-align: top;\n",
       "    }\n",
       "\n",
       "    .dataframe thead th {\n",
       "        text-align: right;\n",
       "    }\n",
       "</style>\n",
       "<table border=\"1\" class=\"dataframe\">\n",
       "  <thead>\n",
       "    <tr style=\"text-align: right;\">\n",
       "      <th></th>\n",
       "      <th>a</th>\n",
       "      <th>b</th>\n",
       "      <th>f(a)</th>\n",
       "      <th>f(b)</th>\n",
       "      <th>x</th>\n",
       "      <th>f(x)</th>\n",
       "    </tr>\n",
       "  </thead>\n",
       "  <tbody>\n",
       "    <tr>\n",
       "      <th>0</th>\n",
       "      <td>1.0</td>\n",
       "      <td>2.000000</td>\n",
       "      <td>1.525399</td>\n",
       "      <td>-0.762770</td>\n",
       "      <td>1.666646</td>\n",
       "      <td>-0.178212</td>\n",
       "    </tr>\n",
       "    <tr>\n",
       "      <th>1</th>\n",
       "      <td>1.0</td>\n",
       "      <td>1.666646</td>\n",
       "      <td>1.525399</td>\n",
       "      <td>-0.178212</td>\n",
       "      <td>1.666646</td>\n",
       "      <td>-0.178212</td>\n",
       "    </tr>\n",
       "    <tr>\n",
       "      <th>2</th>\n",
       "      <td>1.0</td>\n",
       "      <td>1.596909</td>\n",
       "      <td>1.525399</td>\n",
       "      <td>-0.035750</td>\n",
       "      <td>1.596909</td>\n",
       "      <td>-0.035750</td>\n",
       "    </tr>\n",
       "    <tr>\n",
       "      <th>3</th>\n",
       "      <td>1.0</td>\n",
       "      <td>1.583240</td>\n",
       "      <td>1.525399</td>\n",
       "      <td>-0.006946</td>\n",
       "      <td>1.583240</td>\n",
       "      <td>-0.006946</td>\n",
       "    </tr>\n",
       "  </tbody>\n",
       "</table>\n",
       "</div>"
      ],
      "text/plain": [
       "     a         b      f(a)      f(b)         x      f(x)\n",
       "0  1.0  2.000000  1.525399 -0.762770  1.666646 -0.178212\n",
       "1  1.0  1.666646  1.525399 -0.178212  1.666646 -0.178212\n",
       "2  1.0  1.596909  1.525399 -0.035750  1.596909 -0.035750\n",
       "3  1.0  1.583240  1.525399 -0.006946  1.583240 -0.006946"
      ]
     },
     "execution_count": 38,
     "metadata": {},
     "output_type": "execute_result"
    }
   ],
   "source": [
    "df_iteracoes_fals"
   ]
  },
  {
   "cell_type": "code",
   "execution_count": 39,
   "metadata": {},
   "outputs": [
    {
     "data": {
      "text/html": [
       "<div>\n",
       "<style scoped>\n",
       "    .dataframe tbody tr th:only-of-type {\n",
       "        vertical-align: middle;\n",
       "    }\n",
       "\n",
       "    .dataframe tbody tr th {\n",
       "        vertical-align: top;\n",
       "    }\n",
       "\n",
       "    .dataframe thead th {\n",
       "        text-align: right;\n",
       "    }\n",
       "</style>\n",
       "<table border=\"1\" class=\"dataframe\">\n",
       "  <thead>\n",
       "    <tr style=\"text-align: right;\">\n",
       "      <th></th>\n",
       "      <th>x0</th>\n",
       "      <th>f(x0)</th>\n",
       "      <th>x</th>\n",
       "      <th>f(x)</th>\n",
       "    </tr>\n",
       "  </thead>\n",
       "  <tbody>\n",
       "    <tr>\n",
       "      <th>0</th>\n",
       "      <td>1.0</td>\n",
       "      <td>1.525399</td>\n",
       "      <td>1.477923</td>\n",
       "      <td>0.224991</td>\n",
       "    </tr>\n",
       "    <tr>\n",
       "      <th>1</th>\n",
       "      <td>1.0</td>\n",
       "      <td>1.525399</td>\n",
       "      <td>1.576251</td>\n",
       "      <td>0.007895</td>\n",
       "    </tr>\n",
       "  </tbody>\n",
       "</table>\n",
       "</div>"
      ],
      "text/plain": [
       "    x0     f(x0)         x      f(x)\n",
       "0  1.0  1.525399  1.477923  0.224991\n",
       "1  1.0  1.525399  1.576251  0.007895"
      ]
     },
     "execution_count": 39,
     "metadata": {},
     "output_type": "execute_result"
    }
   ],
   "source": [
    "df_iteracoes_newt"
   ]
  },
  {
   "cell_type": "code",
   "execution_count": 40,
   "metadata": {},
   "outputs": [
    {
     "data": {
      "text/html": [
       "<div>\n",
       "<style scoped>\n",
       "    .dataframe tbody tr th:only-of-type {\n",
       "        vertical-align: middle;\n",
       "    }\n",
       "\n",
       "    .dataframe tbody tr th {\n",
       "        vertical-align: top;\n",
       "    }\n",
       "\n",
       "    .dataframe thead th {\n",
       "        text-align: right;\n",
       "    }\n",
       "</style>\n",
       "<table border=\"1\" class=\"dataframe\">\n",
       "  <thead>\n",
       "    <tr style=\"text-align: right;\">\n",
       "      <th></th>\n",
       "      <th>a</th>\n",
       "      <th>b</th>\n",
       "      <th>c</th>\n",
       "      <th>f(c)</th>\n",
       "    </tr>\n",
       "  </thead>\n",
       "  <tbody>\n",
       "    <tr>\n",
       "      <th>0</th>\n",
       "      <td>1.000000</td>\n",
       "      <td>2.000000</td>\n",
       "      <td>1.666646</td>\n",
       "      <td>-0.178212</td>\n",
       "    </tr>\n",
       "    <tr>\n",
       "      <th>1</th>\n",
       "      <td>1.000000</td>\n",
       "      <td>2.000000</td>\n",
       "      <td>1.666646</td>\n",
       "      <td>-0.178212</td>\n",
       "    </tr>\n",
       "    <tr>\n",
       "      <th>2</th>\n",
       "      <td>2.000000</td>\n",
       "      <td>1.666646</td>\n",
       "      <td>1.565018</td>\n",
       "      <td>0.031910</td>\n",
       "    </tr>\n",
       "    <tr>\n",
       "      <th>3</th>\n",
       "      <td>1.666646</td>\n",
       "      <td>1.565018</td>\n",
       "      <td>1.580452</td>\n",
       "      <td>-0.001034</td>\n",
       "    </tr>\n",
       "  </tbody>\n",
       "</table>\n",
       "</div>"
      ],
      "text/plain": [
       "          a         b         c      f(c)\n",
       "0  1.000000  2.000000  1.666646 -0.178212\n",
       "1  1.000000  2.000000  1.666646 -0.178212\n",
       "2  2.000000  1.666646  1.565018  0.031910\n",
       "3  1.666646  1.565018  1.580452 -0.001034"
      ]
     },
     "execution_count": 40,
     "metadata": {},
     "output_type": "execute_result"
    }
   ],
   "source": [
    "df_iteracoes_sec"
   ]
  },
  {
   "cell_type": "code",
   "execution_count": 41,
   "metadata": {},
   "outputs": [
    {
     "data": {
      "text/html": [
       "<div>\n",
       "<style scoped>\n",
       "    .dataframe tbody tr th:only-of-type {\n",
       "        vertical-align: middle;\n",
       "    }\n",
       "\n",
       "    .dataframe tbody tr th {\n",
       "        vertical-align: top;\n",
       "    }\n",
       "\n",
       "    .dataframe thead th {\n",
       "        text-align: right;\n",
       "    }\n",
       "</style>\n",
       "<table border=\"1\" class=\"dataframe\">\n",
       "  <thead>\n",
       "    <tr style=\"text-align: right;\">\n",
       "      <th></th>\n",
       "      <th>Método</th>\n",
       "      <th>Resultado</th>\n",
       "    </tr>\n",
       "  </thead>\n",
       "  <tbody>\n",
       "    <tr>\n",
       "      <th>0</th>\n",
       "      <td>Bisseção</td>\n",
       "      <td>1.578125</td>\n",
       "    </tr>\n",
       "    <tr>\n",
       "      <th>1</th>\n",
       "      <td>Falsa Posição</td>\n",
       "      <td>1.583240</td>\n",
       "    </tr>\n",
       "    <tr>\n",
       "      <th>2</th>\n",
       "      <td>Newton</td>\n",
       "      <td>1.576251</td>\n",
       "    </tr>\n",
       "    <tr>\n",
       "      <th>3</th>\n",
       "      <td>Método de Secante</td>\n",
       "      <td>1.580452</td>\n",
       "    </tr>\n",
       "  </tbody>\n",
       "</table>\n",
       "</div>"
      ],
      "text/plain": [
       "              Método  Resultado\n",
       "0           Bisseção   1.578125\n",
       "1      Falsa Posição   1.583240\n",
       "2             Newton   1.576251\n",
       "3  Método de Secante   1.580452"
      ]
     },
     "execution_count": 41,
     "metadata": {},
     "output_type": "execute_result"
    }
   ],
   "source": [
    "df_resultados"
   ]
  },
  {
   "cell_type": "code",
   "execution_count": 42,
   "metadata": {},
   "outputs": [
    {
     "data": {
      "image/png": "[encoded data removed]",
      "text/plain": [
       "<Figure size 640x480 with 1 Axes>"
      ]
     },
     "metadata": {},
     "output_type": "display_data"
    }
   ],
   "source": [
    "x = np.linspace(a, b, 400)  # 400 é a precisão do gráfico\n",
    "\n",
    "# Calcular y como f(x)\n",
    "y = f(x)\n",
    "\n",
    "# Plotar o gráfico\n",
    "plt.plot(x, y, label='f(x)')\n",
    "plt.title('Gráfico da função f(x)')\n",
    "plt.xlabel('x')\n",
    "plt.ylabel('f(x)')\n",
    "plt.legend()\n",
    "plt.grid(True)  # Adiciona a grade ao gráfico\n",
    "plt.show()  # Mostra o gráfico"
   ]
  }
 ],
 "metadata": {
  "kernelspec": {
   "display_name": "base",
   "language": "python",
   "name": "python3"
  },
  "language_info": {
   "codemirror_mode": {
    "name": "ipython",
    "version": 3
   },
   "file_extension": ".py",
   "mimetype": "text/x-python",
   "name": "python",
   "nbconvert_exporter": "python",
   "pygments_lexer": "ipython3",
   "version": "3.11.7"
  }
 },
 "nbformat": 4,
 "nbformat_minor": 2
}
