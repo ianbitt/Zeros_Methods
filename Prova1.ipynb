{
 "cells": [
  {
   "cell_type": "markdown",
   "metadata": {},
   "source": [
    "# Imports"
   ]
  },
  {
   "cell_type": "code",
   "execution_count": 83,
   "metadata": {},
   "outputs": [],
   "source": [
    "import sympy as sp\n",
    "import pandas as pd\n",
    "import math\n",
    "import numpy as np\n",
    "import matplotlib.pyplot as plt"
   ]
  },
  {
   "cell_type": "code",
   "execution_count": 84,
   "metadata": {},
   "outputs": [],
   "source": [
    "e = math.e"
   ]
  },
  {
   "cell_type": "markdown",
   "metadata": {},
   "source": [
    "# Funções"
   ]
  },
  {
   "cell_type": "markdown",
   "metadata": {},
   "source": [
    "### Definindo a Função e como calcular sua Derivada em um ponto X"
   ]
  },
  {
   "cell_type": "code",
   "execution_count": 85,
   "metadata": {},
   "outputs": [],
   "source": [
    "def f(x):\n",
    "    return (2*x)/(0.1) * np.sinh((0.1*30)/(2*x)) - 32"
   ]
  },
  {
   "cell_type": "code",
   "execution_count": 86,
   "metadata": {},
   "outputs": [],
   "source": [
    "def derivada(f, x, h=1e-5):\n",
    "    return (f(x + h) - f(x - h)) / (2 * h)"
   ]
  },
  {
   "cell_type": "markdown",
   "metadata": {},
   "source": [
    "### Definindo o Método da Bissecção"
   ]
  },
  {
   "cell_type": "code",
   "execution_count": 87,
   "metadata": {},
   "outputs": [],
   "source": [
    "def bissec(a, b, eps):\n",
    "    iteracoes = []                                          # Lista para armazenar as iterações\n",
    "    x = (a+b)/2                                             # Calcula o ponto médio\n",
    "    iteracoes.append((a, b, f(a), f(b), x, f(x)))           # Adiciona a primeira iteração na lista iteracoes \n",
    "    while abs(f(x)) > eps:                                  # Enquanto a função no ponto médio for maior que a precisão, o ciclo continua sendo executado\n",
    "        x = (a+b)/2                                         # Calcula o ponto médio novamente\n",
    "        if f(a)*f(x) < 0:                                   # Se a função no ponto A multiplicada pela função no ponto médio for menor que 0, o ponto médio se torna o novo ponto B\n",
    "            b = x\n",
    "        else:                                               # Se não, o ponto médio se torna o novo ponto A\n",
    "            a = x\n",
    "        iteracoes.append((a, b, f(a), f(b), x, f(x)))       # Adiciona a iteração atual na lista iteracoes\n",
    "    return x, iteracoes                                     # Retorna o valor de x e a lista de iterações\n"
   ]
  },
  {
   "cell_type": "markdown",
   "metadata": {},
   "source": [
    "### Definindo o método da Falsa Posição"
   ]
  },
  {
   "cell_type": "code",
   "execution_count": 88,
   "metadata": {},
   "outputs": [],
   "source": [
    "def false_pos(a, b, eps): \n",
    "    iteracoes = []                                          # Lista para armazenar as iterações\n",
    "    x = (a*(f(b)) - b*(f(a)))/(f(b) - f(a))                 # Calcula o ponto x \n",
    "    iteracoes.append((a, b, f(a), f(b), x, f(x)))           # Adiciona a primeira iteração na lista iteracoes\n",
    "    while abs(f(x))> eps:                                   # Enquanto a função no ponto x for maior que a precisão, o ciclo continua sendo executado\n",
    "        x = (a*(f(b)) - b*(f(a)))/(f(b) - f(a))             # Calcula o ponto x novamente\n",
    "        if f(a)*f(x) < 0:                                   # Se a função no ponto A multiplicada pela função no ponto x for menor que 0, o ponto x se torna o novo ponto B\n",
    "            b = x\n",
    "        else:                                               # Se não, o ponto x se torna o novo ponto A\n",
    "            a = x\n",
    "        iteracoes.append((a, b, f(a), f(b), x, f(x)))       # Adiciona a iteração atual na lista iteracoes\n",
    "    return x, iteracoes"
   ]
  },
  {
   "cell_type": "markdown",
   "metadata": {},
   "source": [
    "### Definindo o método de Newton-Raphson"
   ]
  },
  {
   "cell_type": "code",
   "execution_count": 89,
   "metadata": {},
   "outputs": [],
   "source": [
    "def newton(x0, eps):\n",
    "    iteracoes = []                                         # Lista para armazenar as iterações\n",
    "    x = x0 - f(x0)/derivada(f, x0)                         # Calcula o ponto x\n",
    "    iteracoes.append((x0, f(x0), x, f(x)))                 # Adiciona a primeira iteração na lista iteracoes\n",
    "    while abs(f(x)) > eps:                                 # Enquanto a função no ponto x for maior que a precisão, o ciclo continua sendo executado\n",
    "        x = x - f(x)/derivada(f, x)                        # Calcula o ponto x novamente\n",
    "        iteracoes.append((x0, f(x0), x, f(x)))             # Adiciona a iteração atual na lista iteracoes\n",
    "    return x, iteracoes                                    # Retorna o valor de x e a lista de iterações"
   ]
  },
  {
   "cell_type": "markdown",
   "metadata": {},
   "source": [
    "### Definindo o método da Secante"
   ]
  },
  {
   "cell_type": "code",
   "execution_count": 90,
   "metadata": {},
   "outputs": [],
   "source": [
    "def secante(a, b, eps):\n",
    "    iteracoes = []                                         # Lista para armazenar as iterações\n",
    "    c = (a*f(b) - b*f(a))/(f(b) - f(a))                    # Calcula o ponto c\n",
    "    iteracoes.append((a, b, c, f(c)))                      # Adiciona a primeira iteração na lista iteracoes\n",
    "    while abs(f(c)) > eps:                                 # Enquanto a função no ponto c for maior que a precisão, o ciclo continua sendo executado\n",
    "        c = (a*f(b) - b*f(a))/(f(b) - f(a))                # Calcula o ponto c novamente\n",
    "        iteracoes.append((a, b, c, f(c)))                  # Adiciona a iteração atual na lista iteracoes\n",
    "        a = b                                              \n",
    "        b = c                                              \n",
    "    return c, iteracoes                                    # Retorna o valor de c e a lista de iterações"
   ]
  },
  {
   "cell_type": "markdown",
   "metadata": {},
   "source": [
    "# Código "
   ]
  },
  {
   "cell_type": "code",
   "execution_count": 91,
   "metadata": {},
   "outputs": [],
   "source": [
    "# Solicitando os valores ao usuário\n",
    "a = float(input(\"Defina o início do intervalo: \"))\n",
    "b = float(input(\"Defina o final do intervalo: \"))\n",
    "eps = float(input(\"Defina o erro: \"))\n",
    "\n",
    "# Executando os métodos e armazenando os resultados\n",
    "resultados = {\n",
    "    \"Método\": [],\n",
    "    \"Resultado\": []\n",
    "}"
   ]
  },
  {
   "cell_type": "code",
   "execution_count": 92,
   "metadata": {},
   "outputs": [
    {
     "name": "stdout",
     "output_type": "stream",
     "text": [
      "Resultados salvos em resultados_biss.csv\n"
     ]
    }
   ],
   "source": [
    "# Bissecção\n",
    "x_bissec, iteracoes_bissec = bissec(a, b, eps)\n",
    "df_iteracoes_bissec = pd.DataFrame(iteracoes_bissec, columns=['a', 'b', 'f(a)', 'f(b)', 'x', 'f(x)'])\n",
    "df_iteracoes_bissec.to_csv('/Users/ianbittencourt/Python Learning/CalcNum/resultados_biss.csv', index=False)\n",
    "resultados[\"Método\"].append(\"Bisseção\")\n",
    "resultados[\"Resultado\"].append(x_bissec)\n",
    "\n",
    "print(\"Resultados salvos em resultados_biss.csv\")"
   ]
  },
  {
   "cell_type": "code",
   "execution_count": 93,
   "metadata": {},
   "outputs": [
    {
     "name": "stdout",
     "output_type": "stream",
     "text": [
      "Resultados salvos em resultados_fals.csv\n"
     ]
    }
   ],
   "source": [
    "# Falsa Posição\n",
    "x_fals, iteracoes_fals = false_pos(a, b, eps)\n",
    "df_iteracoes_fals = pd.DataFrame(iteracoes_fals, columns=['a', 'b', 'f(a)', 'f(b)', 'x', 'f(x)'])\n",
    "df_iteracoes_fals.to_csv('/Users/ianbittencourt/Python Learning/CalcNum/resultados_fals.csv', index=False)\n",
    "resultados[\"Método\"].append(\"Falsa Posição\")\n",
    "resultados[\"Resultado\"].append(x_fals)\n",
    "\n",
    "print(\"Resultados salvos em resultados_fals.csv\")"
   ]
  },
  {
   "cell_type": "code",
   "execution_count": 94,
   "metadata": {},
   "outputs": [
    {
     "name": "stdout",
     "output_type": "stream",
     "text": [
      "Resultados salvos em resultados_newt.csv\n"
     ]
    }
   ],
   "source": [
    "# Método de Newton\n",
    "x_newt, iteracoes_newt = newton(a, eps)\n",
    "df_iteracoes_newt = pd.DataFrame(iteracoes_newt, columns=['x0', 'f(x0)', 'x', 'f(x)'])\n",
    "df_iteracoes_newt.to_csv('/Users/ianbittencourt/Python Learning/CalcNum/resultados_newt.csv', index=False)\n",
    "resultados[\"Método\"].append(\"Newton\")\n",
    "resultados[\"Resultado\"].append(x_newt)\n",
    "\n",
    "print(\"Resultados salvos em resultados_newt.csv\")\n"
   ]
  },
  {
   "cell_type": "code",
   "execution_count": 95,
   "metadata": {},
   "outputs": [
    {
     "name": "stdout",
     "output_type": "stream",
     "text": [
      "Resultados salvos em resultados_sec.csv\n"
     ]
    }
   ],
   "source": [
    "# Método da Secante\n",
    "x_sec, iteracoes_sec = secante(a, b, eps)\n",
    "df_iteracoes_sec = pd.DataFrame(iteracoes_sec, columns=['a', 'b', 'c', 'f(c)'])\n",
    "df_iteracoes_sec.to_csv('/Users/ianbittencourt/Python Learning/CalcNum/resultados_sec.csv', index=False)\n",
    "resultados[\"Método\"].append(\"Método de Secante\")\n",
    "resultados[\"Resultado\"].append(x_sec)\n",
    "\n",
    "print(\"Resultados salvos em resultados_sec.csv\")"
   ]
  },
  {
   "cell_type": "code",
   "execution_count": 96,
   "metadata": {},
   "outputs": [
    {
     "name": "stdout",
     "output_type": "stream",
     "text": [
      "Resultados salvos em resultados_metodos.csv\n"
     ]
    }
   ],
   "source": [
    "# Salvando os resultados em um arquivo CSV\n",
    "df_resultados = pd.DataFrame(resultados)\n",
    "df_resultados.to_csv('/Users/ianbittencourt/Python Learning/CalcNum/resultados_metodos.csv', index=False)\n",
    "print(\"Resultados salvos em resultados_metodos.csv\")"
   ]
  },
  {
   "cell_type": "markdown",
   "metadata": {},
   "source": [
    "# Apresentação de Resultados"
   ]
  },
  {
   "cell_type": "code",
   "execution_count": 97,
   "metadata": {},
   "outputs": [
    {
     "data": {
      "text/html": [
       "<div>\n",
       "<style scoped>\n",
       "    .dataframe tbody tr th:only-of-type {\n",
       "        vertical-align: middle;\n",
       "    }\n",
       "\n",
       "    .dataframe tbody tr th {\n",
       "        vertical-align: top;\n",
       "    }\n",
       "\n",
       "    .dataframe thead th {\n",
       "        text-align: right;\n",
       "    }\n",
       "</style>\n",
       "<table border=\"1\" class=\"dataframe\">\n",
       "  <thead>\n",
       "    <tr style=\"text-align: right;\">\n",
       "      <th></th>\n",
       "      <th>a</th>\n",
       "      <th>b</th>\n",
       "      <th>f(a)</th>\n",
       "      <th>f(b)</th>\n",
       "      <th>x</th>\n",
       "      <th>f(x)</th>\n",
       "    </tr>\n",
       "  </thead>\n",
       "  <tbody>\n",
       "    <tr>\n",
       "      <th>0</th>\n",
       "      <td>2.000000</td>\n",
       "      <td>3.00000</td>\n",
       "      <td>0.892669</td>\n",
       "      <td>-0.734282</td>\n",
       "      <td>2.500000</td>\n",
       "      <td>-0.167321</td>\n",
       "    </tr>\n",
       "    <tr>\n",
       "      <th>1</th>\n",
       "      <td>2.000000</td>\n",
       "      <td>2.50000</td>\n",
       "      <td>0.892669</td>\n",
       "      <td>-0.167321</td>\n",
       "      <td>2.500000</td>\n",
       "      <td>-0.167321</td>\n",
       "    </tr>\n",
       "    <tr>\n",
       "      <th>2</th>\n",
       "      <td>2.250000</td>\n",
       "      <td>2.50000</td>\n",
       "      <td>0.272131</td>\n",
       "      <td>-0.167321</td>\n",
       "      <td>2.250000</td>\n",
       "      <td>0.272131</td>\n",
       "    </tr>\n",
       "    <tr>\n",
       "      <th>3</th>\n",
       "      <td>2.375000</td>\n",
       "      <td>2.50000</td>\n",
       "      <td>0.034618</td>\n",
       "      <td>-0.167321</td>\n",
       "      <td>2.375000</td>\n",
       "      <td>0.034618</td>\n",
       "    </tr>\n",
       "    <tr>\n",
       "      <th>4</th>\n",
       "      <td>2.375000</td>\n",
       "      <td>2.43750</td>\n",
       "      <td>0.034618</td>\n",
       "      <td>-0.070331</td>\n",
       "      <td>2.437500</td>\n",
       "      <td>-0.070331</td>\n",
       "    </tr>\n",
       "    <tr>\n",
       "      <th>5</th>\n",
       "      <td>2.375000</td>\n",
       "      <td>2.40625</td>\n",
       "      <td>0.034618</td>\n",
       "      <td>-0.018905</td>\n",
       "      <td>2.406250</td>\n",
       "      <td>-0.018905</td>\n",
       "    </tr>\n",
       "    <tr>\n",
       "      <th>6</th>\n",
       "      <td>2.390625</td>\n",
       "      <td>2.40625</td>\n",
       "      <td>0.007588</td>\n",
       "      <td>-0.018905</td>\n",
       "      <td>2.390625</td>\n",
       "      <td>0.007588</td>\n",
       "    </tr>\n",
       "  </tbody>\n",
       "</table>\n",
       "</div>"
      ],
      "text/plain": [
       "          a        b      f(a)      f(b)         x      f(x)\n",
       "0  2.000000  3.00000  0.892669 -0.734282  2.500000 -0.167321\n",
       "1  2.000000  2.50000  0.892669 -0.167321  2.500000 -0.167321\n",
       "2  2.250000  2.50000  0.272131 -0.167321  2.250000  0.272131\n",
       "3  2.375000  2.50000  0.034618 -0.167321  2.375000  0.034618\n",
       "4  2.375000  2.43750  0.034618 -0.070331  2.437500 -0.070331\n",
       "5  2.375000  2.40625  0.034618 -0.018905  2.406250 -0.018905\n",
       "6  2.390625  2.40625  0.007588 -0.018905  2.390625  0.007588"
      ]
     },
     "execution_count": 97,
     "metadata": {},
     "output_type": "execute_result"
    }
   ],
   "source": [
    "df_iteracoes_bissec"
   ]
  },
  {
   "cell_type": "code",
   "execution_count": 98,
   "metadata": {},
   "outputs": [
    {
     "data": {
      "text/html": [
       "<div>\n",
       "<style scoped>\n",
       "    .dataframe tbody tr th:only-of-type {\n",
       "        vertical-align: middle;\n",
       "    }\n",
       "\n",
       "    .dataframe tbody tr th {\n",
       "        vertical-align: top;\n",
       "    }\n",
       "\n",
       "    .dataframe thead th {\n",
       "        text-align: right;\n",
       "    }\n",
       "</style>\n",
       "<table border=\"1\" class=\"dataframe\">\n",
       "  <thead>\n",
       "    <tr style=\"text-align: right;\">\n",
       "      <th></th>\n",
       "      <th>a</th>\n",
       "      <th>b</th>\n",
       "      <th>f(a)</th>\n",
       "      <th>f(b)</th>\n",
       "      <th>x</th>\n",
       "      <th>f(x)</th>\n",
       "    </tr>\n",
       "  </thead>\n",
       "  <tbody>\n",
       "    <tr>\n",
       "      <th>0</th>\n",
       "      <td>2.0</td>\n",
       "      <td>3.000000</td>\n",
       "      <td>0.892669</td>\n",
       "      <td>-0.734282</td>\n",
       "      <td>2.548676</td>\n",
       "      <td>-0.237855</td>\n",
       "    </tr>\n",
       "    <tr>\n",
       "      <th>1</th>\n",
       "      <td>2.0</td>\n",
       "      <td>2.548676</td>\n",
       "      <td>0.892669</td>\n",
       "      <td>-0.237855</td>\n",
       "      <td>2.548676</td>\n",
       "      <td>-0.237855</td>\n",
       "    </tr>\n",
       "    <tr>\n",
       "      <th>2</th>\n",
       "      <td>2.0</td>\n",
       "      <td>2.433238</td>\n",
       "      <td>0.892669</td>\n",
       "      <td>-0.063437</td>\n",
       "      <td>2.433238</td>\n",
       "      <td>-0.063437</td>\n",
       "    </tr>\n",
       "    <tr>\n",
       "      <th>3</th>\n",
       "      <td>2.0</td>\n",
       "      <td>2.404493</td>\n",
       "      <td>0.892669</td>\n",
       "      <td>-0.015952</td>\n",
       "      <td>2.404493</td>\n",
       "      <td>-0.015952</td>\n",
       "    </tr>\n",
       "    <tr>\n",
       "      <th>4</th>\n",
       "      <td>2.0</td>\n",
       "      <td>2.397392</td>\n",
       "      <td>0.892669</td>\n",
       "      <td>-0.003950</td>\n",
       "      <td>2.397392</td>\n",
       "      <td>-0.003950</td>\n",
       "    </tr>\n",
       "  </tbody>\n",
       "</table>\n",
       "</div>"
      ],
      "text/plain": [
       "     a         b      f(a)      f(b)         x      f(x)\n",
       "0  2.0  3.000000  0.892669 -0.734282  2.548676 -0.237855\n",
       "1  2.0  2.548676  0.892669 -0.237855  2.548676 -0.237855\n",
       "2  2.0  2.433238  0.892669 -0.063437  2.433238 -0.063437\n",
       "3  2.0  2.404493  0.892669 -0.015952  2.404493 -0.015952\n",
       "4  2.0  2.397392  0.892669 -0.003950  2.397392 -0.003950"
      ]
     },
     "execution_count": 98,
     "metadata": {},
     "output_type": "execute_result"
    }
   ],
   "source": [
    "df_iteracoes_fals"
   ]
  },
  {
   "cell_type": "code",
   "execution_count": 99,
   "metadata": {},
   "outputs": [
    {
     "data": {
      "text/html": [
       "<div>\n",
       "<style scoped>\n",
       "    .dataframe tbody tr th:only-of-type {\n",
       "        vertical-align: middle;\n",
       "    }\n",
       "\n",
       "    .dataframe tbody tr th {\n",
       "        vertical-align: top;\n",
       "    }\n",
       "\n",
       "    .dataframe thead th {\n",
       "        text-align: right;\n",
       "    }\n",
       "</style>\n",
       "<table border=\"1\" class=\"dataframe\">\n",
       "  <thead>\n",
       "    <tr style=\"text-align: right;\">\n",
       "      <th></th>\n",
       "      <th>x0</th>\n",
       "      <th>f(x0)</th>\n",
       "      <th>x</th>\n",
       "      <th>f(x)</th>\n",
       "    </tr>\n",
       "  </thead>\n",
       "  <tbody>\n",
       "    <tr>\n",
       "      <th>0</th>\n",
       "      <td>2.0</td>\n",
       "      <td>0.892669</td>\n",
       "      <td>2.300166</td>\n",
       "      <td>0.172020</td>\n",
       "    </tr>\n",
       "    <tr>\n",
       "      <th>1</th>\n",
       "      <td>2.0</td>\n",
       "      <td>0.892669</td>\n",
       "      <td>2.389357</td>\n",
       "      <td>0.009762</td>\n",
       "    </tr>\n",
       "  </tbody>\n",
       "</table>\n",
       "</div>"
      ],
      "text/plain": [
       "    x0     f(x0)         x      f(x)\n",
       "0  2.0  0.892669  2.300166  0.172020\n",
       "1  2.0  0.892669  2.389357  0.009762"
      ]
     },
     "execution_count": 99,
     "metadata": {},
     "output_type": "execute_result"
    }
   ],
   "source": [
    "df_iteracoes_newt"
   ]
  },
  {
   "cell_type": "code",
   "execution_count": 100,
   "metadata": {},
   "outputs": [
    {
     "data": {
      "text/html": [
       "<div>\n",
       "<style scoped>\n",
       "    .dataframe tbody tr th:only-of-type {\n",
       "        vertical-align: middle;\n",
       "    }\n",
       "\n",
       "    .dataframe tbody tr th {\n",
       "        vertical-align: top;\n",
       "    }\n",
       "\n",
       "    .dataframe thead th {\n",
       "        text-align: right;\n",
       "    }\n",
       "</style>\n",
       "<table border=\"1\" class=\"dataframe\">\n",
       "  <thead>\n",
       "    <tr style=\"text-align: right;\">\n",
       "      <th></th>\n",
       "      <th>a</th>\n",
       "      <th>b</th>\n",
       "      <th>c</th>\n",
       "      <th>f(c)</th>\n",
       "    </tr>\n",
       "  </thead>\n",
       "  <tbody>\n",
       "    <tr>\n",
       "      <th>0</th>\n",
       "      <td>2.000000</td>\n",
       "      <td>3.000000</td>\n",
       "      <td>2.548676</td>\n",
       "      <td>-0.237855</td>\n",
       "    </tr>\n",
       "    <tr>\n",
       "      <th>1</th>\n",
       "      <td>2.000000</td>\n",
       "      <td>3.000000</td>\n",
       "      <td>2.548676</td>\n",
       "      <td>-0.237855</td>\n",
       "    </tr>\n",
       "    <tr>\n",
       "      <th>2</th>\n",
       "      <td>3.000000</td>\n",
       "      <td>2.548676</td>\n",
       "      <td>2.332431</td>\n",
       "      <td>0.111112</td>\n",
       "    </tr>\n",
       "    <tr>\n",
       "      <th>3</th>\n",
       "      <td>2.548676</td>\n",
       "      <td>2.332431</td>\n",
       "      <td>2.401284</td>\n",
       "      <td>-0.010542</td>\n",
       "    </tr>\n",
       "    <tr>\n",
       "      <th>4</th>\n",
       "      <td>2.332431</td>\n",
       "      <td>2.401284</td>\n",
       "      <td>2.395317</td>\n",
       "      <td>-0.000424</td>\n",
       "    </tr>\n",
       "  </tbody>\n",
       "</table>\n",
       "</div>"
      ],
      "text/plain": [
       "          a         b         c      f(c)\n",
       "0  2.000000  3.000000  2.548676 -0.237855\n",
       "1  2.000000  3.000000  2.548676 -0.237855\n",
       "2  3.000000  2.548676  2.332431  0.111112\n",
       "3  2.548676  2.332431  2.401284 -0.010542\n",
       "4  2.332431  2.401284  2.395317 -0.000424"
      ]
     },
     "execution_count": 100,
     "metadata": {},
     "output_type": "execute_result"
    }
   ],
   "source": [
    "df_iteracoes_sec"
   ]
  },
  {
   "cell_type": "code",
   "execution_count": 101,
   "metadata": {},
   "outputs": [
    {
     "data": {
      "text/html": [
       "<div>\n",
       "<style scoped>\n",
       "    .dataframe tbody tr th:only-of-type {\n",
       "        vertical-align: middle;\n",
       "    }\n",
       "\n",
       "    .dataframe tbody tr th {\n",
       "        vertical-align: top;\n",
       "    }\n",
       "\n",
       "    .dataframe thead th {\n",
       "        text-align: right;\n",
       "    }\n",
       "</style>\n",
       "<table border=\"1\" class=\"dataframe\">\n",
       "  <thead>\n",
       "    <tr style=\"text-align: right;\">\n",
       "      <th></th>\n",
       "      <th>Método</th>\n",
       "      <th>Resultado</th>\n",
       "    </tr>\n",
       "  </thead>\n",
       "  <tbody>\n",
       "    <tr>\n",
       "      <th>0</th>\n",
       "      <td>Bisseção</td>\n",
       "      <td>2.390625</td>\n",
       "    </tr>\n",
       "    <tr>\n",
       "      <th>1</th>\n",
       "      <td>Falsa Posição</td>\n",
       "      <td>2.397392</td>\n",
       "    </tr>\n",
       "    <tr>\n",
       "      <th>2</th>\n",
       "      <td>Newton</td>\n",
       "      <td>2.389357</td>\n",
       "    </tr>\n",
       "    <tr>\n",
       "      <th>3</th>\n",
       "      <td>Método de Secante</td>\n",
       "      <td>2.395317</td>\n",
       "    </tr>\n",
       "  </tbody>\n",
       "</table>\n",
       "</div>"
      ],
      "text/plain": [
       "              Método  Resultado\n",
       "0           Bisseção   2.390625\n",
       "1      Falsa Posição   2.397392\n",
       "2             Newton   2.389357\n",
       "3  Método de Secante   2.395317"
      ]
     },
     "execution_count": 101,
     "metadata": {},
     "output_type": "execute_result"
    }
   ],
   "source": [
    "df_resultados"
   ]
  },
  {
   "cell_type": "code",
   "execution_count": 102,
   "metadata": {},
   "outputs": [
    {
     "data": {
      "image/png": "[encoded data removed]",
      "text/plain": [
       "<Figure size 640x480 with 1 Axes>"
      ]
     },
     "metadata": {},
     "output_type": "display_data"
    }
   ],
   "source": [
    "x = np.linspace(a, b, 400)  # 400 é a precisão do gráfico\n",
    "\n",
    "# Calcular y como f(x)\n",
    "y = f(x)\n",
    "\n",
    "# Plotar o gráfico\n",
    "plt.plot(x, y, label='f(x)')\n",
    "plt.title('Gráfico da função f(x)')\n",
    "plt.xlabel('x')\n",
    "plt.ylabel('f(x)')\n",
    "plt.legend()\n",
    "plt.grid(True)  # Adiciona a grade ao gráfico\n",
    "plt.show()  # Mostra o gráfico"
   ]
  }
 ],
 "metadata": {
  "kernelspec": {
   "display_name": "base",
   "language": "python",
   "name": "python3"
  },
  "language_info": {
   "codemirror_mode": {
    "name": "ipython",
    "version": 3
   },
   "file_extension": ".py",
   "mimetype": "text/x-python",
   "name": "python",
   "nbconvert_exporter": "python",
   "pygments_lexer": "ipython3",
   "version": "3.11.7"
  }
 },
 "nbformat": 4,
 "nbformat_minor": 2
}
